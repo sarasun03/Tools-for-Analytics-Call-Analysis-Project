{
 "cells": [
  {
   "cell_type": "code",
   "execution_count": 2,
   "metadata": {},
   "outputs": [],
   "source": [
    "import pandas as pd\n",
    "df = pd.read_csv(\"311_Service_Requests_2020.csv\", low_memory=False)\n",
    "df = df[df['Incident Zip'].notnull()]\n",
    "df['Incident Zip'] = df['Incident Zip'].astype(int)\n",
    "df = df[df['Incident Zip']==11101]\n"
   ]
  },
  {
   "cell_type": "code",
   "execution_count": 3,
   "metadata": {},
   "outputs": [
    {
     "data": {
      "text/plain": [
       "Complaint Type\n",
       "Illegal Parking                        2982\n",
       "Noise - Residential                    2030\n",
       "Noise - Street/Sidewalk                1220\n",
       "Blocked Driveway                       1034\n",
       "Non-Emergency Police Matter             904\n",
       "Street Condition                        670\n",
       "NonCompliance with Phased Reopening     649\n",
       "Noise                                   608\n",
       "Noise - Commercial                      512\n",
       "Noise - Vehicle                         374\n",
       "dtype: int64"
      ]
     },
     "execution_count": 3,
     "metadata": {},
     "output_type": "execute_result"
    }
   ],
   "source": [
    "top10 = df.groupby('Complaint Type').size().sort_values(ascending=False).head(10)\n",
    "top10"
   ]
  }
 ],
 "metadata": {
  "interpreter": {
   "hash": "31f2aee4e71d21fbe5cf8b01ff0e069b9275f58929596ceb00d14d90e3e16cd6"
  },
  "kernelspec": {
   "display_name": "Python 3.8.9 64-bit",
   "language": "python",
   "name": "python3"
  },
  "language_info": {
   "codemirror_mode": {
    "name": "ipython",
    "version": 3
   },
   "file_extension": ".py",
   "mimetype": "text/x-python",
   "name": "python",
   "nbconvert_exporter": "python",
   "pygments_lexer": "ipython3",
   "version": "3.9.7"
  },
  "orig_nbformat": 4
 },
 "nbformat": 4,
 "nbformat_minor": 2
}
