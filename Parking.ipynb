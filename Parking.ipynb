{
 "cells": [
  {
   "cell_type": "code",
   "execution_count": 2,
   "metadata": {},
   "outputs": [
    {
     "data": {
      "text/plain": [
       "0.07487334365033108"
      ]
     },
     "execution_count": 2,
     "metadata": {},
     "output_type": "execute_result"
    }
   ],
   "source": [
    "import pandas as pd\n",
    "\n",
    "df = pd.read_csv(\"311_Service_Requests_2020.csv\", low_memory=False)\n",
    "parking_global = len(df['Complaint Type'][df['Complaint Type']=='Illegal Parking'])\n",
    "total_global = len(df['Complaint Type'])\n",
    "rate_global = parking_global/total_global\n",
    "rate_global"
   ]
  },
  {
   "cell_type": "code",
   "execution_count": 3,
   "metadata": {},
   "outputs": [
    {
     "data": {
      "text/plain": [
       "0.1673682438120896"
      ]
     },
     "execution_count": 3,
     "metadata": {},
     "output_type": "execute_result"
    }
   ],
   "source": [
    "df = df[df['Incident Zip'].notnull()]\n",
    "df['Incident Zip'] = df['Incident Zip'].astype(int)\n",
    "parking_11101 = len(df['Complaint Type'][(df['Incident Zip']==11101)&(df['Complaint Type']=='Illegal Parking')])\n",
    "total_11101 = len(df['Complaint Type'][(df['Incident Zip']==11101)])\n",
    "rate_11101 = parking_11101/total_11101\n",
    "rate_11101"
   ]
  },
  {
   "cell_type": "code",
   "execution_count": 4,
   "metadata": {},
   "outputs": [
    {
     "data": {
      "text/plain": [
       "True"
      ]
     },
     "execution_count": 4,
     "metadata": {},
     "output_type": "execute_result"
    }
   ],
   "source": [
    "higher_parking_proportion = rate_11101 > rate_global\n",
    "higher_parking_proportion"
   ]
  }
 ],
 "metadata": {
  "interpreter": {
   "hash": "d42756a7753ce4fccce4ca997fb526f6ffd3165c5f73a330db9c1ab0784902fe"
  },
  "kernelspec": {
   "display_name": "Python 3.9.7 64-bit ('base': conda)",
   "language": "python",
   "name": "python3"
  },
  "language_info": {
   "codemirror_mode": {
    "name": "ipython",
    "version": 3
   },
   "file_extension": ".py",
   "mimetype": "text/x-python",
   "name": "python",
   "nbconvert_exporter": "python",
   "pygments_lexer": "ipython3",
   "version": "3.9.7"
  },
  "orig_nbformat": 4
 },
 "nbformat": 4,
 "nbformat_minor": 2
}
